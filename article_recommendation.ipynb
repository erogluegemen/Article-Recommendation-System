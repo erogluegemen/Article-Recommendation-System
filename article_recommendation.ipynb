{
 "cells": [
  {
   "cell_type": "code",
   "execution_count": 74,
   "metadata": {},
   "outputs": [],
   "source": [
    "import pandas as pd\n",
    "import numpy as np\n",
    "from sklearn.feature_extraction.text import TfidfVectorizer\n",
    "from sklearn.metrics.pairwise import cosine_similarity, euclidean_distances, manhattan_distances"
   ]
  },
  {
   "cell_type": "code",
   "execution_count": 11,
   "metadata": {},
   "outputs": [
    {
     "name": "stdout",
     "output_type": "stream",
     "text": [
      "Article    0\n",
      "Title      0\n",
      "dtype: int64\n"
     ]
    },
    {
     "data": {
      "text/html": [
       "<div>\n",
       "<style scoped>\n",
       "    .dataframe tbody tr th:only-of-type {\n",
       "        vertical-align: middle;\n",
       "    }\n",
       "\n",
       "    .dataframe tbody tr th {\n",
       "        vertical-align: top;\n",
       "    }\n",
       "\n",
       "    .dataframe thead th {\n",
       "        text-align: right;\n",
       "    }\n",
       "</style>\n",
       "<table border=\"1\" class=\"dataframe\">\n",
       "  <thead>\n",
       "    <tr style=\"text-align: right;\">\n",
       "      <th></th>\n",
       "      <th>Article</th>\n",
       "      <th>Title</th>\n",
       "    </tr>\n",
       "  </thead>\n",
       "  <tbody>\n",
       "    <tr>\n",
       "      <th>15</th>\n",
       "      <td>A Multilayer Perceptron or MLP is one of the s...</td>\n",
       "      <td>Multilayer Perceptron in Machine Learning</td>\n",
       "    </tr>\n",
       "    <tr>\n",
       "      <th>31</th>\n",
       "      <td>There are so many algorithms in machine learni...</td>\n",
       "      <td>Use Cases of Different Machine Learning Algori...</td>\n",
       "    </tr>\n",
       "    <tr>\n",
       "      <th>10</th>\n",
       "      <td>Computer Vision is one of the fields of Artifi...</td>\n",
       "      <td>Best Books to Learn Computer Vision</td>\n",
       "    </tr>\n",
       "    <tr>\n",
       "      <th>3</th>\n",
       "      <td>When there are only two classes in a classific...</td>\n",
       "      <td>Multiclass Classification Algorithms in Machin...</td>\n",
       "    </tr>\n",
       "    <tr>\n",
       "      <th>6</th>\n",
       "      <td>Natural language processing or NLP is a subfie...</td>\n",
       "      <td>Best Books to Learn NLP</td>\n",
       "    </tr>\n",
       "  </tbody>\n",
       "</table>\n",
       "</div>"
      ],
      "text/plain": [
       "                                              Article  \\\n",
       "15  A Multilayer Perceptron or MLP is one of the s...   \n",
       "31  There are so many algorithms in machine learni...   \n",
       "10  Computer Vision is one of the fields of Artifi...   \n",
       "3   When there are only two classes in a classific...   \n",
       "6   Natural language processing or NLP is a subfie...   \n",
       "\n",
       "                                                Title  \n",
       "15          Multilayer Perceptron in Machine Learning  \n",
       "31  Use Cases of Different Machine Learning Algori...  \n",
       "10                Best Books to Learn Computer Vision  \n",
       "3   Multiclass Classification Algorithms in Machin...  \n",
       "6                             Best Books to Learn NLP  "
      ]
     },
     "execution_count": 11,
     "metadata": {},
     "output_type": "execute_result"
    }
   ],
   "source": [
    "df = pd.read_csv('articles.csv', encoding='latin1')\n",
    "print(df.isnull().sum())\n",
    "df.sample(5)"
   ]
  },
  {
   "cell_type": "code",
   "execution_count": 30,
   "metadata": {},
   "outputs": [],
   "source": [
    "articles = df[\"Article\"].tolist()\n",
    "uni_tfidf = TfidfVectorizer(input=articles, stop_words='english', encoding='utf-8')\n",
    "uni_matrix = uni_tfidf.fit_transform(articles)"
   ]
  },
  {
   "cell_type": "code",
   "execution_count": 42,
   "metadata": {},
   "outputs": [],
   "source": [
    "similarity_metrics = {\n",
    "    'Cosine Similarity': cosine_similarity(uni_matrix), \n",
    "    'Euclidean Distance Similarity': euclidean_distances(uni_matrix), \n",
    "    'Manhattan Distance Similarity': manhattan_distances(uni_matrix)\n",
    "    }"
   ]
  },
  {
   "cell_type": "code",
   "execution_count": 75,
   "metadata": {},
   "outputs": [
    {
     "name": "stdout",
     "output_type": "stream",
     "text": [
      "=============== Top 5 Recommended Articles ===============\n",
      "{Similarity Metric is: Cosine Similarity}\n",
      "0    Introduction to Recommendation Systems, Best B...\n",
      "1    Applications of Deep Learning, Best Books to L...\n",
      "2    Language Detection with Machine Learning, Appl...\n",
      "3    Assumptions of Machine Learning Algorithms, Be...\n",
      "4    Assumptions of Machine Learning Algorithms, Me...\n",
      "Name: Recommended Articles, dtype: object\n",
      "==========================================================\n",
      "{Similarity Metric is: Euclidean Distance Similarity}\n",
      "0    Mean Shift Clustering in Machine Learning, Agg...\n",
      "1    Swap Items of a Python List, For Loop Over Key...\n",
      "2    Animated Scatter Plot using Python, Best Pytho...\n",
      "3    Animated Scatter Plot using Python, Squid Game...\n",
      "4    Best Books to Learn Computer Vision, Send Inst...\n",
      "Name: Recommended Articles, dtype: object\n",
      "==========================================================\n",
      "{Similarity Metric is: Manhattan Distance Similarity}\n",
      "0    Introduction to Recommendation Systems, Apple ...\n",
      "1    Best Books to Learn Data Analysis, For Loop Ov...\n",
      "2    Introduction to Recommendation Systems, Best B...\n",
      "3    Squid Game Sentiment Analysis using Python, Fo...\n",
      "4    Pfizer Vaccine Sentiment Analysis using Python...\n",
      "Name: Recommended Articles, dtype: object\n",
      "==========================================================\n"
     ]
    }
   ],
   "source": [
    "def recommend_articles(x):\n",
    "    return \", \".join(df[\"Title\"].loc[x.argsort()[-5:-1]])  \n",
    "\n",
    "print('=============== Top 5 Recommended Articles ===============')\n",
    "for name, similarity in similarity_metrics.items():      \n",
    "    df[\"Recommended Articles\"] = [recommend_articles(x) for x in similarity]\n",
    "    print(f'{{Similarity Metric is: {name}}}')\n",
    "    print(df['Recommended Articles'].head())\n",
    "    print('='*58)"
   ]
  }
 ],
 "metadata": {
  "kernelspec": {
   "display_name": "datascience",
   "language": "python",
   "name": "python3"
  },
  "language_info": {
   "codemirror_mode": {
    "name": "ipython",
    "version": 3
   },
   "file_extension": ".py",
   "mimetype": "text/x-python",
   "name": "python",
   "nbconvert_exporter": "python",
   "pygments_lexer": "ipython3",
   "version": "3.8.13"
  },
  "orig_nbformat": 4,
  "vscode": {
   "interpreter": {
    "hash": "d0b1c89e816016841cedf5fdbe32ca3459ea5d941d32dcd15ad8b1c504d281f6"
   }
  }
 },
 "nbformat": 4,
 "nbformat_minor": 2
}
